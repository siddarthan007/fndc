{
 "cells": [
  {
   "cell_type": "code",
   "execution_count": 38,
   "id": "d842ec91-dec0-4727-936f-dd89f4ea1448",
   "metadata": {},
   "outputs": [],
   "source": [
    "import pandas as pd\n",
    "import numpy as np\n",
    "import seaborn as sns\n",
    "import matplotlib.pyplot as plt\n",
    "from sklearn.model_selection import train_test_split\n",
    "from sklearn.metrics import accuracy_score\n",
    "from sklearn.metrics import classification_report\n",
    "import re\n",
    "import string"
   ]
  },
  {
   "cell_type": "code",
   "execution_count": 39,
   "id": "2d6cadab-8954-4e1d-90ba-0f5f5763dd28",
   "metadata": {},
   "outputs": [
    {
     "data": {
      "text/html": [
       "<div>\n",
       "<style scoped>\n",
       "    .dataframe tbody tr th:only-of-type {\n",
       "        vertical-align: middle;\n",
       "    }\n",
       "\n",
       "    .dataframe tbody tr th {\n",
       "        vertical-align: top;\n",
       "    }\n",
       "\n",
       "    .dataframe thead th {\n",
       "        text-align: right;\n",
       "    }\n",
       "</style>\n",
       "<table border=\"1\" class=\"dataframe\">\n",
       "  <thead>\n",
       "    <tr style=\"text-align: right;\">\n",
       "      <th></th>\n",
       "      <th>idd</th>\n",
       "      <th>title</th>\n",
       "      <th>text</th>\n",
       "      <th>label</th>\n",
       "    </tr>\n",
       "  </thead>\n",
       "  <tbody>\n",
       "    <tr>\n",
       "      <th>0</th>\n",
       "      <td>Fq+C96tcx+</td>\n",
       "      <td>‘A target on Roe v. Wade ’: Oklahoma bill maki...</td>\n",
       "      <td>UPDATE: Gov. Fallin vetoed the bill on Friday....</td>\n",
       "      <td>REAL</td>\n",
       "    </tr>\n",
       "    <tr>\n",
       "      <th>1</th>\n",
       "      <td>bHUqK!pgmv</td>\n",
       "      <td>Study: women had to drive 4 times farther afte...</td>\n",
       "      <td>Ever since Texas laws closed about half of the...</td>\n",
       "      <td>REAL</td>\n",
       "    </tr>\n",
       "    <tr>\n",
       "      <th>2</th>\n",
       "      <td>4Y4Ubf%aTi</td>\n",
       "      <td>Trump, Clinton clash in dueling DC speeches</td>\n",
       "      <td>Donald Trump and Hillary Clinton, now at the s...</td>\n",
       "      <td>REAL</td>\n",
       "    </tr>\n",
       "    <tr>\n",
       "      <th>3</th>\n",
       "      <td>_CoY89SJ@K</td>\n",
       "      <td>Grand jury in Texas indicts activists behind P...</td>\n",
       "      <td>A Houston grand jury investigating criminal al...</td>\n",
       "      <td>REAL</td>\n",
       "    </tr>\n",
       "    <tr>\n",
       "      <th>4</th>\n",
       "      <td>+rJHoRQVLe</td>\n",
       "      <td>As Reproductive Rights Hang In The Balance, De...</td>\n",
       "      <td>WASHINGTON -- Forty-three years after the Supr...</td>\n",
       "      <td>REAL</td>\n",
       "    </tr>\n",
       "  </tbody>\n",
       "</table>\n",
       "</div>"
      ],
      "text/plain": [
       "          idd                                              title  \\\n",
       "0  Fq+C96tcx+  ‘A target on Roe v. Wade ’: Oklahoma bill maki...   \n",
       "1  bHUqK!pgmv  Study: women had to drive 4 times farther afte...   \n",
       "2  4Y4Ubf%aTi        Trump, Clinton clash in dueling DC speeches   \n",
       "3  _CoY89SJ@K  Grand jury in Texas indicts activists behind P...   \n",
       "4  +rJHoRQVLe  As Reproductive Rights Hang In The Balance, De...   \n",
       "\n",
       "                                                text label  \n",
       "0  UPDATE: Gov. Fallin vetoed the bill on Friday....  REAL  \n",
       "1  Ever since Texas laws closed about half of the...  REAL  \n",
       "2  Donald Trump and Hillary Clinton, now at the s...  REAL  \n",
       "3  A Houston grand jury investigating criminal al...  REAL  \n",
       "4  WASHINGTON -- Forty-three years after the Supr...  REAL  "
      ]
     },
     "execution_count": 39,
     "metadata": {},
     "output_type": "execute_result"
    }
   ],
   "source": [
    "df = pd.read_csv(\"dataset/rfnews.csv\")\n",
    "df.head()"
   ]
  },
  {
   "cell_type": "code",
   "execution_count": 40,
   "id": "15680f96-caae-41b5-845d-2a6003deeee9",
   "metadata": {},
   "outputs": [
    {
     "data": {
      "text/html": [
       "<div>\n",
       "<style scoped>\n",
       "    .dataframe tbody tr th:only-of-type {\n",
       "        vertical-align: middle;\n",
       "    }\n",
       "\n",
       "    .dataframe tbody tr th {\n",
       "        vertical-align: top;\n",
       "    }\n",
       "\n",
       "    .dataframe thead th {\n",
       "        text-align: right;\n",
       "    }\n",
       "</style>\n",
       "<table border=\"1\" class=\"dataframe\">\n",
       "  <thead>\n",
       "    <tr style=\"text-align: right;\">\n",
       "      <th></th>\n",
       "      <th>idd</th>\n",
       "      <th>title</th>\n",
       "      <th>text</th>\n",
       "      <th>label</th>\n",
       "    </tr>\n",
       "  </thead>\n",
       "  <tbody>\n",
       "    <tr>\n",
       "      <th>2509</th>\n",
       "      <td>1Vjab!9qS*</td>\n",
       "      <td>Poverty Rose in 96% of U.S. House Districts, D...</td>\n",
       "      <td>Posted on November 5, 2016 by Eric Zuesse. Eri...</td>\n",
       "      <td>FAKE</td>\n",
       "    </tr>\n",
       "    <tr>\n",
       "      <th>4187</th>\n",
       "      <td>8cJi$bceJV</td>\n",
       "      <td>Insider Leaks Bill’s 2-Word Nickname For Hilla...</td>\n",
       "      <td>Email \\n\\nNo wonder Bill went elsewhere to ful...</td>\n",
       "      <td>FAKE</td>\n",
       "    </tr>\n",
       "    <tr>\n",
       "      <th>628</th>\n",
       "      <td>SwiZPfrN60</td>\n",
       "      <td>The power of Trump’s call to free America from...</td>\n",
       "      <td>Donald Trump voters praise him for 'telling it...</td>\n",
       "      <td>REAL</td>\n",
       "    </tr>\n",
       "    <tr>\n",
       "      <th>619</th>\n",
       "      <td>VrVe7cx941</td>\n",
       "      <td>Pressure Is On Trump, Sanders In Crucial Conte...</td>\n",
       "      <td>Pressure Is On Trump, Sanders In Crucial Conte...</td>\n",
       "      <td>REAL</td>\n",
       "    </tr>\n",
       "    <tr>\n",
       "      <th>4482</th>\n",
       "      <td>nEzcgRfFrF</td>\n",
       "      <td>GOP senators warn negotiators: US climate goal...</td>\n",
       "      <td>November 4, 2016 GOP senators warn negotiators...</td>\n",
       "      <td>FAKE</td>\n",
       "    </tr>\n",
       "  </tbody>\n",
       "</table>\n",
       "</div>"
      ],
      "text/plain": [
       "             idd                                              title  \\\n",
       "2509  1Vjab!9qS*  Poverty Rose in 96% of U.S. House Districts, D...   \n",
       "4187  8cJi$bceJV  Insider Leaks Bill’s 2-Word Nickname For Hilla...   \n",
       "628   SwiZPfrN60  The power of Trump’s call to free America from...   \n",
       "619   VrVe7cx941  Pressure Is On Trump, Sanders In Crucial Conte...   \n",
       "4482  nEzcgRfFrF  GOP senators warn negotiators: US climate goal...   \n",
       "\n",
       "                                                   text label  \n",
       "2509  Posted on November 5, 2016 by Eric Zuesse. Eri...  FAKE  \n",
       "4187  Email \\n\\nNo wonder Bill went elsewhere to ful...  FAKE  \n",
       "628   Donald Trump voters praise him for 'telling it...  REAL  \n",
       "619   Pressure Is On Trump, Sanders In Crucial Conte...  REAL  \n",
       "4482  November 4, 2016 GOP senators warn negotiators...  FAKE  "
      ]
     },
     "execution_count": 40,
     "metadata": {},
     "output_type": "execute_result"
    }
   ],
   "source": [
    "df = df.sample(frac = 1)\n",
    "df.head()"
   ]
  },
  {
   "cell_type": "code",
   "execution_count": 41,
   "id": "7fa85442-03f3-43e8-90bc-21104af7fea1",
   "metadata": {},
   "outputs": [],
   "source": [
    "df.reset_index(inplace = True)\n",
    "df.drop([\"index\"], axis = 1, inplace = True)\n",
    "df.drop([\"idd\"], axis = 1, inplace = True)"
   ]
  },
  {
   "cell_type": "code",
   "execution_count": 42,
   "id": "80f30e24-d5e0-4877-8945-a66bcb8569e5",
   "metadata": {},
   "outputs": [
    {
     "data": {
      "text/html": [
       "<div>\n",
       "<style scoped>\n",
       "    .dataframe tbody tr th:only-of-type {\n",
       "        vertical-align: middle;\n",
       "    }\n",
       "\n",
       "    .dataframe tbody tr th {\n",
       "        vertical-align: top;\n",
       "    }\n",
       "\n",
       "    .dataframe thead th {\n",
       "        text-align: right;\n",
       "    }\n",
       "</style>\n",
       "<table border=\"1\" class=\"dataframe\">\n",
       "  <thead>\n",
       "    <tr style=\"text-align: right;\">\n",
       "      <th></th>\n",
       "      <th>title</th>\n",
       "      <th>text</th>\n",
       "      <th>label</th>\n",
       "    </tr>\n",
       "  </thead>\n",
       "  <tbody>\n",
       "    <tr>\n",
       "      <th>0</th>\n",
       "      <td>Poverty Rose in 96% of U.S. House Districts, D...</td>\n",
       "      <td>Posted on November 5, 2016 by Eric Zuesse. Eri...</td>\n",
       "      <td>FAKE</td>\n",
       "    </tr>\n",
       "    <tr>\n",
       "      <th>1</th>\n",
       "      <td>Insider Leaks Bill’s 2-Word Nickname For Hilla...</td>\n",
       "      <td>Email \\n\\nNo wonder Bill went elsewhere to ful...</td>\n",
       "      <td>FAKE</td>\n",
       "    </tr>\n",
       "    <tr>\n",
       "      <th>2</th>\n",
       "      <td>The power of Trump’s call to free America from...</td>\n",
       "      <td>Donald Trump voters praise him for 'telling it...</td>\n",
       "      <td>REAL</td>\n",
       "    </tr>\n",
       "    <tr>\n",
       "      <th>3</th>\n",
       "      <td>Pressure Is On Trump, Sanders In Crucial Conte...</td>\n",
       "      <td>Pressure Is On Trump, Sanders In Crucial Conte...</td>\n",
       "      <td>REAL</td>\n",
       "    </tr>\n",
       "    <tr>\n",
       "      <th>4</th>\n",
       "      <td>GOP senators warn negotiators: US climate goal...</td>\n",
       "      <td>November 4, 2016 GOP senators warn negotiators...</td>\n",
       "      <td>FAKE</td>\n",
       "    </tr>\n",
       "  </tbody>\n",
       "</table>\n",
       "</div>"
      ],
      "text/plain": [
       "                                               title  \\\n",
       "0  Poverty Rose in 96% of U.S. House Districts, D...   \n",
       "1  Insider Leaks Bill’s 2-Word Nickname For Hilla...   \n",
       "2  The power of Trump’s call to free America from...   \n",
       "3  Pressure Is On Trump, Sanders In Crucial Conte...   \n",
       "4  GOP senators warn negotiators: US climate goal...   \n",
       "\n",
       "                                                text label  \n",
       "0  Posted on November 5, 2016 by Eric Zuesse. Eri...  FAKE  \n",
       "1  Email \\n\\nNo wonder Bill went elsewhere to ful...  FAKE  \n",
       "2  Donald Trump voters praise him for 'telling it...  REAL  \n",
       "3  Pressure Is On Trump, Sanders In Crucial Conte...  REAL  \n",
       "4  November 4, 2016 GOP senators warn negotiators...  FAKE  "
      ]
     },
     "execution_count": 42,
     "metadata": {},
     "output_type": "execute_result"
    }
   ],
   "source": [
    "df.head()"
   ]
  },
  {
   "cell_type": "code",
   "execution_count": 43,
   "id": "148562aa-ec80-4948-be1a-0e0131a2904d",
   "metadata": {},
   "outputs": [],
   "source": [
    "def wordopt(text):\n",
    "    text = text.lower()\n",
    "    text = re.sub(r\"\\[.*?\\]\", '', text)\n",
    "    text = re.sub(r\"\\W\", \" \", text)\n",
    "    text = re.sub(r'https?://\\S+|www\\.\\S+', '', text)\n",
    "    text = re.sub(r'<.*?>+', '', text)\n",
    "    text = re.sub(rf'[{re.escape(string.punctuation)}]', '', text)\n",
    "    text = re.sub(r'\\n', '', text)\n",
    "    text = re.sub(r'\\w*\\d\\w*', '', text)\n",
    "    return text"
   ]
  },
  {
   "cell_type": "code",
   "execution_count": 44,
   "id": "25749d78-9c79-4e05-8ec3-3647cc2d3cd3",
   "metadata": {},
   "outputs": [],
   "source": [
    "df[\"text\"] = df[\"title\"].astype(str) + \" \" + df[\"text\"]"
   ]
  },
  {
   "cell_type": "code",
   "execution_count": 45,
   "id": "d6bc332e-c1fd-4b94-a8a5-c8e683f5ffad",
   "metadata": {},
   "outputs": [],
   "source": [
    "df[\"text\"] = df[\"text\"].apply(wordopt)"
   ]
  },
  {
   "cell_type": "code",
   "execution_count": 46,
   "id": "b86f5ab6-7cac-45e0-bf6f-b3c324f1c478",
   "metadata": {},
   "outputs": [
    {
     "data": {
      "text/html": [
       "<div>\n",
       "<style scoped>\n",
       "    .dataframe tbody tr th:only-of-type {\n",
       "        vertical-align: middle;\n",
       "    }\n",
       "\n",
       "    .dataframe tbody tr th {\n",
       "        vertical-align: top;\n",
       "    }\n",
       "\n",
       "    .dataframe thead th {\n",
       "        text-align: right;\n",
       "    }\n",
       "</style>\n",
       "<table border=\"1\" class=\"dataframe\">\n",
       "  <thead>\n",
       "    <tr style=\"text-align: right;\">\n",
       "      <th></th>\n",
       "      <th>title</th>\n",
       "      <th>text</th>\n",
       "      <th>label</th>\n",
       "    </tr>\n",
       "  </thead>\n",
       "  <tbody>\n",
       "    <tr>\n",
       "      <th>0</th>\n",
       "      <td>Poverty Rose in 96% of U.S. House Districts, D...</td>\n",
       "      <td>poverty rose in   of u s  house districts  dur...</td>\n",
       "      <td>FAKE</td>\n",
       "    </tr>\n",
       "    <tr>\n",
       "      <th>1</th>\n",
       "      <td>Insider Leaks Bill’s 2-Word Nickname For Hilla...</td>\n",
       "      <td>insider leaks bill s  word nickname for hillar...</td>\n",
       "      <td>FAKE</td>\n",
       "    </tr>\n",
       "    <tr>\n",
       "      <th>2</th>\n",
       "      <td>The power of Trump’s call to free America from...</td>\n",
       "      <td>the power of trump s call to free america from...</td>\n",
       "      <td>REAL</td>\n",
       "    </tr>\n",
       "    <tr>\n",
       "      <th>3</th>\n",
       "      <td>Pressure Is On Trump, Sanders In Crucial Conte...</td>\n",
       "      <td>pressure is on trump  sanders in crucial conte...</td>\n",
       "      <td>REAL</td>\n",
       "    </tr>\n",
       "    <tr>\n",
       "      <th>4</th>\n",
       "      <td>GOP senators warn negotiators: US climate goal...</td>\n",
       "      <td>gop senators warn negotiators  us climate goal...</td>\n",
       "      <td>FAKE</td>\n",
       "    </tr>\n",
       "  </tbody>\n",
       "</table>\n",
       "</div>"
      ],
      "text/plain": [
       "                                               title  \\\n",
       "0  Poverty Rose in 96% of U.S. House Districts, D...   \n",
       "1  Insider Leaks Bill’s 2-Word Nickname For Hilla...   \n",
       "2  The power of Trump’s call to free America from...   \n",
       "3  Pressure Is On Trump, Sanders In Crucial Conte...   \n",
       "4  GOP senators warn negotiators: US climate goal...   \n",
       "\n",
       "                                                text label  \n",
       "0  poverty rose in   of u s  house districts  dur...  FAKE  \n",
       "1  insider leaks bill s  word nickname for hillar...  FAKE  \n",
       "2  the power of trump s call to free america from...  REAL  \n",
       "3  pressure is on trump  sanders in crucial conte...  REAL  \n",
       "4  gop senators warn negotiators  us climate goal...  FAKE  "
      ]
     },
     "execution_count": 46,
     "metadata": {},
     "output_type": "execute_result"
    }
   ],
   "source": [
    "df.head()"
   ]
  },
  {
   "cell_type": "code",
   "execution_count": 56,
   "id": "c26f80c9-8ce5-4a77-a862-ecd5e6e4aa03",
   "metadata": {},
   "outputs": [],
   "source": [
    "df[\"label\"] = df[\"label\"].map({\"REAL\": 1, \"FAKE\": 0})"
   ]
  },
  {
   "cell_type": "code",
   "execution_count": 57,
   "id": "5d6d2022-b608-444d-8e52-726d7f38ae64",
   "metadata": {},
   "outputs": [
    {
     "data": {
      "text/html": [
       "<div>\n",
       "<style scoped>\n",
       "    .dataframe tbody tr th:only-of-type {\n",
       "        vertical-align: middle;\n",
       "    }\n",
       "\n",
       "    .dataframe tbody tr th {\n",
       "        vertical-align: top;\n",
       "    }\n",
       "\n",
       "    .dataframe thead th {\n",
       "        text-align: right;\n",
       "    }\n",
       "</style>\n",
       "<table border=\"1\" class=\"dataframe\">\n",
       "  <thead>\n",
       "    <tr style=\"text-align: right;\">\n",
       "      <th></th>\n",
       "      <th>title</th>\n",
       "      <th>text</th>\n",
       "      <th>label</th>\n",
       "    </tr>\n",
       "  </thead>\n",
       "  <tbody>\n",
       "    <tr>\n",
       "      <th>0</th>\n",
       "      <td>Poverty Rose in 96% of U.S. House Districts, D...</td>\n",
       "      <td>poverty rose in   of u s  house districts  dur...</td>\n",
       "      <td>0</td>\n",
       "    </tr>\n",
       "    <tr>\n",
       "      <th>1</th>\n",
       "      <td>Insider Leaks Bill’s 2-Word Nickname For Hilla...</td>\n",
       "      <td>insider leaks bill s  word nickname for hillar...</td>\n",
       "      <td>0</td>\n",
       "    </tr>\n",
       "    <tr>\n",
       "      <th>2</th>\n",
       "      <td>The power of Trump’s call to free America from...</td>\n",
       "      <td>the power of trump s call to free america from...</td>\n",
       "      <td>1</td>\n",
       "    </tr>\n",
       "    <tr>\n",
       "      <th>3</th>\n",
       "      <td>Pressure Is On Trump, Sanders In Crucial Conte...</td>\n",
       "      <td>pressure is on trump  sanders in crucial conte...</td>\n",
       "      <td>1</td>\n",
       "    </tr>\n",
       "    <tr>\n",
       "      <th>4</th>\n",
       "      <td>GOP senators warn negotiators: US climate goal...</td>\n",
       "      <td>gop senators warn negotiators  us climate goal...</td>\n",
       "      <td>0</td>\n",
       "    </tr>\n",
       "  </tbody>\n",
       "</table>\n",
       "</div>"
      ],
      "text/plain": [
       "                                               title  \\\n",
       "0  Poverty Rose in 96% of U.S. House Districts, D...   \n",
       "1  Insider Leaks Bill’s 2-Word Nickname For Hilla...   \n",
       "2  The power of Trump’s call to free America from...   \n",
       "3  Pressure Is On Trump, Sanders In Crucial Conte...   \n",
       "4  GOP senators warn negotiators: US climate goal...   \n",
       "\n",
       "                                                text  label  \n",
       "0  poverty rose in   of u s  house districts  dur...      0  \n",
       "1  insider leaks bill s  word nickname for hillar...      0  \n",
       "2  the power of trump s call to free america from...      1  \n",
       "3  pressure is on trump  sanders in crucial conte...      1  \n",
       "4  gop senators warn negotiators  us climate goal...      0  "
      ]
     },
     "execution_count": 57,
     "metadata": {},
     "output_type": "execute_result"
    }
   ],
   "source": [
    "df.head()"
   ]
  },
  {
   "cell_type": "code",
   "execution_count": 58,
   "id": "6d143edf-b5c0-45cb-ac96-76b456e4fd6c",
   "metadata": {},
   "outputs": [],
   "source": [
    "x = df[\"text\"]\n",
    "y = df[\"label\"]"
   ]
  },
  {
   "cell_type": "code",
   "execution_count": 59,
   "id": "3f583842-399d-46e7-aa82-694a133d5d48",
   "metadata": {},
   "outputs": [],
   "source": [
    "x_train, x_test, y_train, y_test = train_test_split(x, y, test_size=0.20, random_state=42)"
   ]
  },
  {
   "cell_type": "code",
   "execution_count": 60,
   "id": "27dc936d-fe21-4e7a-9c5a-0f951042eacc",
   "metadata": {},
   "outputs": [],
   "source": [
    "from sklearn.feature_extraction.text import TfidfVectorizer\n",
    "from sklearn.linear_model import PassiveAggressiveClassifier, LogisticRegression\n",
    "from sklearn.ensemble import StackingClassifier, RandomForestClassifier\n",
    "\n",
    "vectorization = TfidfVectorizer(stop_words=\"english\", max_df=0.7, ngram_range=(1, 2))\n",
    "xv_train = vectorization.fit_transform(x_train)\n",
    "xv_test = vectorization.transform(x_test)\n",
    "\n",
    "base_models = [\n",
    "    ('pa', PassiveAggressiveClassifier(max_iter=1000)),\n",
    "    ('rf', RandomForestClassifier(n_estimators=100, random_state=42))\n",
    "]\n",
    "\n",
    "logistic_regression = LogisticRegression()\n",
    "\n",
    "stack = StackingClassifier(\n",
    "    estimators=base_models,\n",
    "    final_estimator=logistic_regression,\n",
    "    stack_method='auto'\n",
    ")"
   ]
  },
  {
   "cell_type": "code",
   "execution_count": 61,
   "id": "febbfd9f-eda2-4e4f-be59-4719890a34c5",
   "metadata": {},
   "outputs": [],
   "source": [
    "stack.fit(xv_train, y_train)\n",
    "y_pred = stack.predict(xv_test)"
   ]
  },
  {
   "cell_type": "code",
   "execution_count": 62,
   "id": "dd84624f-95cd-4248-8586-e0e2b480f243",
   "metadata": {},
   "outputs": [
    {
     "data": {
      "text/plain": [
       "['model.pkl']"
      ]
     },
     "execution_count": 62,
     "metadata": {},
     "output_type": "execute_result"
    }
   ],
   "source": [
    "import joblib\n",
    "\n",
    "joblib.dump(vectorization, 'vectorizer.pkl')\n",
    "joblib.dump(stack, 'model.pkl')"
   ]
  },
  {
   "cell_type": "code",
   "execution_count": 63,
   "id": "5f90efbd-5ff2-4317-b9d2-91a9bc04ecbc",
   "metadata": {},
   "outputs": [
    {
     "name": "stdout",
     "output_type": "stream",
     "text": [
      "Accuracy: 0.9510337323177367\n",
      "              precision    recall  f1-score   support\n",
      "\n",
      "           0       0.96      0.94      0.95       447\n",
      "           1       0.94      0.97      0.95       472\n",
      "\n",
      "    accuracy                           0.95       919\n",
      "   macro avg       0.95      0.95      0.95       919\n",
      "weighted avg       0.95      0.95      0.95       919\n",
      "\n",
      "pa Accuracy: 95.43%\n",
      "rf Accuracy: 90.64%\n"
     ]
    }
   ],
   "source": [
    "print(\"Accuracy:\", accuracy_score(y_test, y_pred))\n",
    "print(classification_report(y_test, y_pred))\n",
    "\n",
    "for name, model in base_models:\n",
    "    model.fit(xv_train, y_train)\n",
    "    print(f\"{name} Accuracy: {accuracy_score(y_test, model.predict(xv_test)):.2%}\")"
   ]
  },
  {
   "cell_type": "code",
   "execution_count": 64,
   "id": "ac0fe583-b1af-48b1-84f3-c4a28139c37c",
   "metadata": {},
   "outputs": [
    {
     "name": "stdout",
     "output_type": "stream",
     "text": [
      "Prediction: 0\n"
     ]
    }
   ],
   "source": [
    "vec = joblib.load('vectorizer.pkl')\n",
    "model = joblib.load('model.pkl')\n",
    "\n",
    "text = [\"Breaking news: a man dies in a train crash\"]\n",
    "text = vec.transform(text)\n",
    "print(\"Prediction:\", model.predict(text)[0])"
   ]
  },
  {
   "cell_type": "code",
   "execution_count": null,
   "id": "f8ee4ca2-d4d6-4081-9491-df8a601b9f97",
   "metadata": {},
   "outputs": [],
   "source": []
  }
 ],
 "metadata": {
  "kernelspec": {
   "display_name": "Python 3 (ipykernel)",
   "language": "python",
   "name": "python3"
  },
  "language_info": {
   "codemirror_mode": {
    "name": "ipython",
    "version": 3
   },
   "file_extension": ".py",
   "mimetype": "text/x-python",
   "name": "python",
   "nbconvert_exporter": "python",
   "pygments_lexer": "ipython3",
   "version": "3.12.8"
  }
 },
 "nbformat": 4,
 "nbformat_minor": 5
}
