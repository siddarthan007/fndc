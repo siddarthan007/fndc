{
 "cells": [
  {
   "cell_type": "code",
   "execution_count": 1,
   "id": "d842ec91-dec0-4727-936f-dd89f4ea1448",
   "metadata": {},
   "outputs": [],
   "source": [
    "import pandas as pd\n",
    "import numpy as np\n",
    "import seaborn as sns\n",
    "import matplotlib.pyplot as plt\n",
    "from sklearn.model_selection import train_test_split\n",
    "from sklearn.metrics import accuracy_score\n",
    "from sklearn.metrics import classification_report\n",
    "import re\n",
    "import string"
   ]
  },
  {
   "cell_type": "code",
   "execution_count": 3,
   "id": "2d6cadab-8954-4e1d-90ba-0f5f5763dd28",
   "metadata": {},
   "outputs": [
    {
     "data": {
      "text/html": [
       "<div>\n",
       "<style scoped>\n",
       "    .dataframe tbody tr th:only-of-type {\n",
       "        vertical-align: middle;\n",
       "    }\n",
       "\n",
       "    .dataframe tbody tr th {\n",
       "        vertical-align: top;\n",
       "    }\n",
       "\n",
       "    .dataframe thead th {\n",
       "        text-align: right;\n",
       "    }\n",
       "</style>\n",
       "<table border=\"1\" class=\"dataframe\">\n",
       "  <thead>\n",
       "    <tr style=\"text-align: right;\">\n",
       "      <th></th>\n",
       "      <th>title</th>\n",
       "      <th>text</th>\n",
       "      <th>subject</th>\n",
       "      <th>date</th>\n",
       "    </tr>\n",
       "  </thead>\n",
       "  <tbody>\n",
       "    <tr>\n",
       "      <th>0</th>\n",
       "      <td>As U.S. budget fight looms, Republicans flip t...</td>\n",
       "      <td>WASHINGTON (Reuters) - The head of a conservat...</td>\n",
       "      <td>politicsNews</td>\n",
       "      <td>December 31, 2017</td>\n",
       "    </tr>\n",
       "    <tr>\n",
       "      <th>1</th>\n",
       "      <td>U.S. military to accept transgender recruits o...</td>\n",
       "      <td>WASHINGTON (Reuters) - Transgender people will...</td>\n",
       "      <td>politicsNews</td>\n",
       "      <td>December 29, 2017</td>\n",
       "    </tr>\n",
       "    <tr>\n",
       "      <th>2</th>\n",
       "      <td>Senior U.S. Republican senator: 'Let Mr. Muell...</td>\n",
       "      <td>WASHINGTON (Reuters) - The special counsel inv...</td>\n",
       "      <td>politicsNews</td>\n",
       "      <td>December 31, 2017</td>\n",
       "    </tr>\n",
       "    <tr>\n",
       "      <th>3</th>\n",
       "      <td>FBI Russia probe helped by Australian diplomat...</td>\n",
       "      <td>WASHINGTON (Reuters) - Trump campaign adviser ...</td>\n",
       "      <td>politicsNews</td>\n",
       "      <td>December 30, 2017</td>\n",
       "    </tr>\n",
       "    <tr>\n",
       "      <th>4</th>\n",
       "      <td>Trump wants Postal Service to charge 'much mor...</td>\n",
       "      <td>SEATTLE/WASHINGTON (Reuters) - President Donal...</td>\n",
       "      <td>politicsNews</td>\n",
       "      <td>December 29, 2017</td>\n",
       "    </tr>\n",
       "  </tbody>\n",
       "</table>\n",
       "</div>"
      ],
      "text/plain": [
       "                                               title  \\\n",
       "0  As U.S. budget fight looms, Republicans flip t...   \n",
       "1  U.S. military to accept transgender recruits o...   \n",
       "2  Senior U.S. Republican senator: 'Let Mr. Muell...   \n",
       "3  FBI Russia probe helped by Australian diplomat...   \n",
       "4  Trump wants Postal Service to charge 'much mor...   \n",
       "\n",
       "                                                text       subject  \\\n",
       "0  WASHINGTON (Reuters) - The head of a conservat...  politicsNews   \n",
       "1  WASHINGTON (Reuters) - Transgender people will...  politicsNews   \n",
       "2  WASHINGTON (Reuters) - The special counsel inv...  politicsNews   \n",
       "3  WASHINGTON (Reuters) - Trump campaign adviser ...  politicsNews   \n",
       "4  SEATTLE/WASHINGTON (Reuters) - President Donal...  politicsNews   \n",
       "\n",
       "                 date  \n",
       "0  December 31, 2017   \n",
       "1  December 29, 2017   \n",
       "2  December 31, 2017   \n",
       "3  December 30, 2017   \n",
       "4  December 29, 2017   "
      ]
     },
     "execution_count": 3,
     "metadata": {},
     "output_type": "execute_result"
    }
   ],
   "source": [
    "t_df = pd.read_csv(\"dataset/True.csv\")\n",
    "f_df = pd.read_csv(\"dataset/Fake.csv\")\n",
    "t_df.head()"
   ]
  },
  {
   "cell_type": "code",
   "execution_count": 4,
   "id": "1740617e-2800-4cfb-9a7c-f0eea48b6584",
   "metadata": {},
   "outputs": [
    {
     "data": {
      "text/html": [
       "<div>\n",
       "<style scoped>\n",
       "    .dataframe tbody tr th:only-of-type {\n",
       "        vertical-align: middle;\n",
       "    }\n",
       "\n",
       "    .dataframe tbody tr th {\n",
       "        vertical-align: top;\n",
       "    }\n",
       "\n",
       "    .dataframe thead th {\n",
       "        text-align: right;\n",
       "    }\n",
       "</style>\n",
       "<table border=\"1\" class=\"dataframe\">\n",
       "  <thead>\n",
       "    <tr style=\"text-align: right;\">\n",
       "      <th></th>\n",
       "      <th>title</th>\n",
       "      <th>text</th>\n",
       "      <th>subject</th>\n",
       "      <th>date</th>\n",
       "    </tr>\n",
       "  </thead>\n",
       "  <tbody>\n",
       "    <tr>\n",
       "      <th>0</th>\n",
       "      <td>Donald Trump Sends Out Embarrassing New Year’...</td>\n",
       "      <td>Donald Trump just couldn t wish all Americans ...</td>\n",
       "      <td>News</td>\n",
       "      <td>December 31, 2017</td>\n",
       "    </tr>\n",
       "    <tr>\n",
       "      <th>1</th>\n",
       "      <td>Drunk Bragging Trump Staffer Started Russian ...</td>\n",
       "      <td>House Intelligence Committee Chairman Devin Nu...</td>\n",
       "      <td>News</td>\n",
       "      <td>December 31, 2017</td>\n",
       "    </tr>\n",
       "    <tr>\n",
       "      <th>2</th>\n",
       "      <td>Sheriff David Clarke Becomes An Internet Joke...</td>\n",
       "      <td>On Friday, it was revealed that former Milwauk...</td>\n",
       "      <td>News</td>\n",
       "      <td>December 30, 2017</td>\n",
       "    </tr>\n",
       "    <tr>\n",
       "      <th>3</th>\n",
       "      <td>Trump Is So Obsessed He Even Has Obama’s Name...</td>\n",
       "      <td>On Christmas day, Donald Trump announced that ...</td>\n",
       "      <td>News</td>\n",
       "      <td>December 29, 2017</td>\n",
       "    </tr>\n",
       "    <tr>\n",
       "      <th>4</th>\n",
       "      <td>Pope Francis Just Called Out Donald Trump Dur...</td>\n",
       "      <td>Pope Francis used his annual Christmas Day mes...</td>\n",
       "      <td>News</td>\n",
       "      <td>December 25, 2017</td>\n",
       "    </tr>\n",
       "  </tbody>\n",
       "</table>\n",
       "</div>"
      ],
      "text/plain": [
       "                                               title  \\\n",
       "0   Donald Trump Sends Out Embarrassing New Year’...   \n",
       "1   Drunk Bragging Trump Staffer Started Russian ...   \n",
       "2   Sheriff David Clarke Becomes An Internet Joke...   \n",
       "3   Trump Is So Obsessed He Even Has Obama’s Name...   \n",
       "4   Pope Francis Just Called Out Donald Trump Dur...   \n",
       "\n",
       "                                                text subject  \\\n",
       "0  Donald Trump just couldn t wish all Americans ...    News   \n",
       "1  House Intelligence Committee Chairman Devin Nu...    News   \n",
       "2  On Friday, it was revealed that former Milwauk...    News   \n",
       "3  On Christmas day, Donald Trump announced that ...    News   \n",
       "4  Pope Francis used his annual Christmas Day mes...    News   \n",
       "\n",
       "                date  \n",
       "0  December 31, 2017  \n",
       "1  December 31, 2017  \n",
       "2  December 30, 2017  \n",
       "3  December 29, 2017  \n",
       "4  December 25, 2017  "
      ]
     },
     "execution_count": 4,
     "metadata": {},
     "output_type": "execute_result"
    }
   ],
   "source": [
    "f_df.head()"
   ]
  },
  {
   "cell_type": "code",
   "execution_count": 5,
   "id": "15680f96-caae-41b5-845d-2a6003deeee9",
   "metadata": {},
   "outputs": [],
   "source": [
    "f_df[\"label\"] = 0\n",
    "t_df[\"label\"] = 1"
   ]
  },
  {
   "cell_type": "code",
   "execution_count": 7,
   "id": "bc915e9a-2740-4b2b-88d9-aa950db9576f",
   "metadata": {},
   "outputs": [],
   "source": [
    "df = pd.concat([f_df, t_df], axis=0).reset_index(drop=True)"
   ]
  },
  {
   "cell_type": "code",
   "execution_count": 9,
   "id": "80f30e24-d5e0-4877-8945-a66bcb8569e5",
   "metadata": {},
   "outputs": [
    {
     "data": {
      "text/html": [
       "<div>\n",
       "<style scoped>\n",
       "    .dataframe tbody tr th:only-of-type {\n",
       "        vertical-align: middle;\n",
       "    }\n",
       "\n",
       "    .dataframe tbody tr th {\n",
       "        vertical-align: top;\n",
       "    }\n",
       "\n",
       "    .dataframe thead th {\n",
       "        text-align: right;\n",
       "    }\n",
       "</style>\n",
       "<table border=\"1\" class=\"dataframe\">\n",
       "  <thead>\n",
       "    <tr style=\"text-align: right;\">\n",
       "      <th></th>\n",
       "      <th>title</th>\n",
       "      <th>text</th>\n",
       "      <th>subject</th>\n",
       "      <th>date</th>\n",
       "      <th>label</th>\n",
       "    </tr>\n",
       "  </thead>\n",
       "  <tbody>\n",
       "    <tr>\n",
       "      <th>11315</th>\n",
       "      <td>CRYBABY NANCY PELOSI Taunts Trump On Healthcar...</td>\n",
       "      <td>https://www.youtube.com/watch?v=SH0pRtK9sAE</td>\n",
       "      <td>politics</td>\n",
       "      <td>Mar 24, 2017</td>\n",
       "      <td>0</td>\n",
       "    </tr>\n",
       "    <tr>\n",
       "      <th>23170</th>\n",
       "      <td>Boiler Room EP #83 – Wouldn’t It Be Nice…</td>\n",
       "      <td>Tune in to the Alternate Current Radio Network...</td>\n",
       "      <td>Middle-east</td>\n",
       "      <td>November 10, 2016</td>\n",
       "      <td>0</td>\n",
       "    </tr>\n",
       "    <tr>\n",
       "      <th>7631</th>\n",
       "      <td>Fox Goes Full-Stupid: Planned Parenthood ‘Doe...</td>\n",
       "      <td>It s finally happened. The  baby parts  lie fa...</td>\n",
       "      <td>News</td>\n",
       "      <td>March 7, 2016</td>\n",
       "      <td>0</td>\n",
       "    </tr>\n",
       "    <tr>\n",
       "      <th>39416</th>\n",
       "      <td>German Greens make stand on car emissions in c...</td>\n",
       "      <td>BERLIN (Reuters) - Germany s Greens said on We...</td>\n",
       "      <td>worldnews</td>\n",
       "      <td>November 1, 2017</td>\n",
       "      <td>1</td>\n",
       "    </tr>\n",
       "    <tr>\n",
       "      <th>2481</th>\n",
       "      <td>Trump Claims He Inherited All The Problems He...</td>\n",
       "      <td>What would a Saturday morning in the Trump adm...</td>\n",
       "      <td>News</td>\n",
       "      <td>February 18, 2017</td>\n",
       "      <td>0</td>\n",
       "    </tr>\n",
       "  </tbody>\n",
       "</table>\n",
       "</div>"
      ],
      "text/plain": [
       "                                                   title  \\\n",
       "11315  CRYBABY NANCY PELOSI Taunts Trump On Healthcar...   \n",
       "23170          Boiler Room EP #83 – Wouldn’t It Be Nice…   \n",
       "7631    Fox Goes Full-Stupid: Planned Parenthood ‘Doe...   \n",
       "39416  German Greens make stand on car emissions in c...   \n",
       "2481    Trump Claims He Inherited All The Problems He...   \n",
       "\n",
       "                                                    text      subject  \\\n",
       "11315        https://www.youtube.com/watch?v=SH0pRtK9sAE     politics   \n",
       "23170  Tune in to the Alternate Current Radio Network...  Middle-east   \n",
       "7631   It s finally happened. The  baby parts  lie fa...         News   \n",
       "39416  BERLIN (Reuters) - Germany s Greens said on We...    worldnews   \n",
       "2481   What would a Saturday morning in the Trump adm...         News   \n",
       "\n",
       "                    date  label  \n",
       "11315       Mar 24, 2017      0  \n",
       "23170  November 10, 2016      0  \n",
       "7631       March 7, 2016      0  \n",
       "39416  November 1, 2017       1  \n",
       "2481   February 18, 2017      0  "
      ]
     },
     "execution_count": 9,
     "metadata": {},
     "output_type": "execute_result"
    }
   ],
   "source": [
    "df = df.sample(frac = 1)\n",
    "df.head()"
   ]
  },
  {
   "cell_type": "code",
   "execution_count": 10,
   "id": "7d53c1ba-7352-476b-8126-4585b01ea711",
   "metadata": {},
   "outputs": [
    {
     "data": {
      "text/html": [
       "<div>\n",
       "<style scoped>\n",
       "    .dataframe tbody tr th:only-of-type {\n",
       "        vertical-align: middle;\n",
       "    }\n",
       "\n",
       "    .dataframe tbody tr th {\n",
       "        vertical-align: top;\n",
       "    }\n",
       "\n",
       "    .dataframe thead th {\n",
       "        text-align: right;\n",
       "    }\n",
       "</style>\n",
       "<table border=\"1\" class=\"dataframe\">\n",
       "  <thead>\n",
       "    <tr style=\"text-align: right;\">\n",
       "      <th></th>\n",
       "      <th>title</th>\n",
       "      <th>text</th>\n",
       "      <th>label</th>\n",
       "    </tr>\n",
       "  </thead>\n",
       "  <tbody>\n",
       "    <tr>\n",
       "      <th>11315</th>\n",
       "      <td>CRYBABY NANCY PELOSI Taunts Trump On Healthcar...</td>\n",
       "      <td>https://www.youtube.com/watch?v=SH0pRtK9sAE</td>\n",
       "      <td>0</td>\n",
       "    </tr>\n",
       "    <tr>\n",
       "      <th>23170</th>\n",
       "      <td>Boiler Room EP #83 – Wouldn’t It Be Nice…</td>\n",
       "      <td>Tune in to the Alternate Current Radio Network...</td>\n",
       "      <td>0</td>\n",
       "    </tr>\n",
       "    <tr>\n",
       "      <th>7631</th>\n",
       "      <td>Fox Goes Full-Stupid: Planned Parenthood ‘Doe...</td>\n",
       "      <td>It s finally happened. The  baby parts  lie fa...</td>\n",
       "      <td>0</td>\n",
       "    </tr>\n",
       "    <tr>\n",
       "      <th>39416</th>\n",
       "      <td>German Greens make stand on car emissions in c...</td>\n",
       "      <td>BERLIN (Reuters) - Germany s Greens said on We...</td>\n",
       "      <td>1</td>\n",
       "    </tr>\n",
       "    <tr>\n",
       "      <th>2481</th>\n",
       "      <td>Trump Claims He Inherited All The Problems He...</td>\n",
       "      <td>What would a Saturday morning in the Trump adm...</td>\n",
       "      <td>0</td>\n",
       "    </tr>\n",
       "  </tbody>\n",
       "</table>\n",
       "</div>"
      ],
      "text/plain": [
       "                                                   title  \\\n",
       "11315  CRYBABY NANCY PELOSI Taunts Trump On Healthcar...   \n",
       "23170          Boiler Room EP #83 – Wouldn’t It Be Nice…   \n",
       "7631    Fox Goes Full-Stupid: Planned Parenthood ‘Doe...   \n",
       "39416  German Greens make stand on car emissions in c...   \n",
       "2481    Trump Claims He Inherited All The Problems He...   \n",
       "\n",
       "                                                    text  label  \n",
       "11315        https://www.youtube.com/watch?v=SH0pRtK9sAE      0  \n",
       "23170  Tune in to the Alternate Current Radio Network...      0  \n",
       "7631   It s finally happened. The  baby parts  lie fa...      0  \n",
       "39416  BERLIN (Reuters) - Germany s Greens said on We...      1  \n",
       "2481   What would a Saturday morning in the Trump adm...      0  "
      ]
     },
     "execution_count": 10,
     "metadata": {},
     "output_type": "execute_result"
    }
   ],
   "source": [
    "df = df[['title', 'text', 'label']]\n",
    "df.head()"
   ]
  },
  {
   "cell_type": "code",
   "execution_count": 11,
   "id": "a63d589f-f02c-4b8c-b5c5-496d39aef2cb",
   "metadata": {},
   "outputs": [
    {
     "data": {
      "text/html": [
       "<div>\n",
       "<style scoped>\n",
       "    .dataframe tbody tr th:only-of-type {\n",
       "        vertical-align: middle;\n",
       "    }\n",
       "\n",
       "    .dataframe tbody tr th {\n",
       "        vertical-align: top;\n",
       "    }\n",
       "\n",
       "    .dataframe thead th {\n",
       "        text-align: right;\n",
       "    }\n",
       "</style>\n",
       "<table border=\"1\" class=\"dataframe\">\n",
       "  <thead>\n",
       "    <tr style=\"text-align: right;\">\n",
       "      <th></th>\n",
       "      <th>title</th>\n",
       "      <th>text</th>\n",
       "      <th>label</th>\n",
       "      <th>combined_text</th>\n",
       "    </tr>\n",
       "  </thead>\n",
       "  <tbody>\n",
       "    <tr>\n",
       "      <th>11315</th>\n",
       "      <td>CRYBABY NANCY PELOSI Taunts Trump On Healthcar...</td>\n",
       "      <td>https://www.youtube.com/watch?v=SH0pRtK9sAE</td>\n",
       "      <td>0</td>\n",
       "      <td>CRYBABY NANCY PELOSI Taunts Trump On Healthcar...</td>\n",
       "    </tr>\n",
       "    <tr>\n",
       "      <th>23170</th>\n",
       "      <td>Boiler Room EP #83 – Wouldn’t It Be Nice…</td>\n",
       "      <td>Tune in to the Alternate Current Radio Network...</td>\n",
       "      <td>0</td>\n",
       "      <td>Boiler Room EP #83 – Wouldn’t It Be Nice… Tune...</td>\n",
       "    </tr>\n",
       "    <tr>\n",
       "      <th>7631</th>\n",
       "      <td>Fox Goes Full-Stupid: Planned Parenthood ‘Doe...</td>\n",
       "      <td>It s finally happened. The  baby parts  lie fa...</td>\n",
       "      <td>0</td>\n",
       "      <td>Fox Goes Full-Stupid: Planned Parenthood ‘Doe...</td>\n",
       "    </tr>\n",
       "    <tr>\n",
       "      <th>39416</th>\n",
       "      <td>German Greens make stand on car emissions in c...</td>\n",
       "      <td>BERLIN (Reuters) - Germany s Greens said on We...</td>\n",
       "      <td>1</td>\n",
       "      <td>German Greens make stand on car emissions in c...</td>\n",
       "    </tr>\n",
       "    <tr>\n",
       "      <th>2481</th>\n",
       "      <td>Trump Claims He Inherited All The Problems He...</td>\n",
       "      <td>What would a Saturday morning in the Trump adm...</td>\n",
       "      <td>0</td>\n",
       "      <td>Trump Claims He Inherited All The Problems He...</td>\n",
       "    </tr>\n",
       "  </tbody>\n",
       "</table>\n",
       "</div>"
      ],
      "text/plain": [
       "                                                   title  \\\n",
       "11315  CRYBABY NANCY PELOSI Taunts Trump On Healthcar...   \n",
       "23170          Boiler Room EP #83 – Wouldn’t It Be Nice…   \n",
       "7631    Fox Goes Full-Stupid: Planned Parenthood ‘Doe...   \n",
       "39416  German Greens make stand on car emissions in c...   \n",
       "2481    Trump Claims He Inherited All The Problems He...   \n",
       "\n",
       "                                                    text  label  \\\n",
       "11315        https://www.youtube.com/watch?v=SH0pRtK9sAE      0   \n",
       "23170  Tune in to the Alternate Current Radio Network...      0   \n",
       "7631   It s finally happened. The  baby parts  lie fa...      0   \n",
       "39416  BERLIN (Reuters) - Germany s Greens said on We...      1   \n",
       "2481   What would a Saturday morning in the Trump adm...      0   \n",
       "\n",
       "                                           combined_text  \n",
       "11315  CRYBABY NANCY PELOSI Taunts Trump On Healthcar...  \n",
       "23170  Boiler Room EP #83 – Wouldn’t It Be Nice… Tune...  \n",
       "7631    Fox Goes Full-Stupid: Planned Parenthood ‘Doe...  \n",
       "39416  German Greens make stand on car emissions in c...  \n",
       "2481    Trump Claims He Inherited All The Problems He...  "
      ]
     },
     "execution_count": 11,
     "metadata": {},
     "output_type": "execute_result"
    }
   ],
   "source": [
    "df['combined_text'] = df['title'] + \" \" + df['text']\n",
    "df.head()"
   ]
  },
  {
   "cell_type": "code",
   "execution_count": 15,
   "id": "31e081b8-72ab-443a-9e8b-d2abe4552bff",
   "metadata": {},
   "outputs": [
    {
     "name": "stderr",
     "output_type": "stream",
     "text": [
      "[nltk_data] Downloading package stopwords to\n",
      "[nltk_data]     C:\\Users\\sidda\\AppData\\Roaming\\nltk_data...\n",
      "[nltk_data]   Package stopwords is already up-to-date!\n",
      "[nltk_data] Downloading package punkt_tab to\n",
      "[nltk_data]     C:\\Users\\sidda\\AppData\\Roaming\\nltk_data...\n",
      "[nltk_data]   Unzipping tokenizers\\punkt_tab.zip.\n"
     ]
    }
   ],
   "source": [
    "import nltk\n",
    "from nltk.corpus import stopwords\n",
    "from nltk.util import trigrams\n",
    "\n",
    "nltk.download('stopwords')\n",
    "nltk.download('punkt_tab')\n",
    "stop_words = set(stopwords.words('english'))"
   ]
  },
  {
   "cell_type": "code",
   "execution_count": 16,
   "id": "148562aa-ec80-4948-be1a-0e0131a2904d",
   "metadata": {},
   "outputs": [],
   "source": [
    "def preprocess_text(text):\n",
    "    tokens = nltk.word_tokenize(text.lower())\n",
    "    tokens = [word for word in tokens if word.isalnum() and word not in stop_words]\n",
    "    \n",
    "    trigrams = list(nltk.trigrams(tokens))\n",
    "    \n",
    "    return ' '.join([' '.join(trigram) for trigram in trigrams])"
   ]
  },
  {
   "cell_type": "code",
   "execution_count": 17,
   "id": "25749d78-9c79-4e05-8ec3-3647cc2d3cd3",
   "metadata": {},
   "outputs": [
    {
     "data": {
      "text/html": [
       "<div>\n",
       "<style scoped>\n",
       "    .dataframe tbody tr th:only-of-type {\n",
       "        vertical-align: middle;\n",
       "    }\n",
       "\n",
       "    .dataframe tbody tr th {\n",
       "        vertical-align: top;\n",
       "    }\n",
       "\n",
       "    .dataframe thead th {\n",
       "        text-align: right;\n",
       "    }\n",
       "</style>\n",
       "<table border=\"1\" class=\"dataframe\">\n",
       "  <thead>\n",
       "    <tr style=\"text-align: right;\">\n",
       "      <th></th>\n",
       "      <th>processed_text</th>\n",
       "      <th>label</th>\n",
       "    </tr>\n",
       "  </thead>\n",
       "  <tbody>\n",
       "    <tr>\n",
       "      <th>11315</th>\n",
       "      <td>crybaby nancy pelosi nancy pelosi taunts pelos...</td>\n",
       "      <td>0</td>\n",
       "    </tr>\n",
       "    <tr>\n",
       "      <th>23170</th>\n",
       "      <td>boiler room ep room ep 83 ep 83 tune 83 tune a...</td>\n",
       "      <td>0</td>\n",
       "    </tr>\n",
       "    <tr>\n",
       "      <th>7631</th>\n",
       "      <td>fox goes planned goes planned parenthood plann...</td>\n",
       "      <td>0</td>\n",
       "    </tr>\n",
       "    <tr>\n",
       "      <th>39416</th>\n",
       "      <td>german greens make greens make stand make stan...</td>\n",
       "      <td>1</td>\n",
       "    </tr>\n",
       "    <tr>\n",
       "      <th>2481</th>\n",
       "      <td>trump claims inherited claims inherited proble...</td>\n",
       "      <td>0</td>\n",
       "    </tr>\n",
       "  </tbody>\n",
       "</table>\n",
       "</div>"
      ],
      "text/plain": [
       "                                          processed_text  label\n",
       "11315  crybaby nancy pelosi nancy pelosi taunts pelos...      0\n",
       "23170  boiler room ep room ep 83 ep 83 tune 83 tune a...      0\n",
       "7631   fox goes planned goes planned parenthood plann...      0\n",
       "39416  german greens make greens make stand make stan...      1\n",
       "2481   trump claims inherited claims inherited proble...      0"
      ]
     },
     "execution_count": 17,
     "metadata": {},
     "output_type": "execute_result"
    }
   ],
   "source": [
    "df['processed_text']=df['combined_text'].apply(preprocess_text)\n",
    "processed_df = df[['processed_text', 'label']]\n",
    "processed_df.head()"
   ]
  },
  {
   "cell_type": "code",
   "execution_count": 18,
   "id": "6d143edf-b5c0-45cb-ac96-76b456e4fd6c",
   "metadata": {},
   "outputs": [],
   "source": [
    "x = df[\"processed_text\"]\n",
    "y = df[\"label\"]"
   ]
  },
  {
   "cell_type": "code",
   "execution_count": 19,
   "id": "3f583842-399d-46e7-aa82-694a133d5d48",
   "metadata": {},
   "outputs": [],
   "source": [
    "x_train, x_test, y_train, y_test = train_test_split(x, y, test_size=0.20, random_state=42)"
   ]
  },
  {
   "cell_type": "code",
   "execution_count": 20,
   "id": "27dc936d-fe21-4e7a-9c5a-0f951042eacc",
   "metadata": {},
   "outputs": [],
   "source": [
    "from sklearn.feature_extraction.text import TfidfVectorizer\n",
    "from sklearn.linear_model import PassiveAggressiveClassifier, LogisticRegression\n",
    "from sklearn.ensemble import StackingClassifier, RandomForestClassifier\n",
    "\n",
    "vectorization = TfidfVectorizer(max_df=0.7, max_features=5000)\n",
    "xv_train = vectorization.fit_transform(x_train)\n",
    "xv_test = vectorization.transform(x_test)\n",
    "\n",
    "base_models = [\n",
    "    ('pa', PassiveAggressiveClassifier(max_iter=1000)),\n",
    "    ('rf', RandomForestClassifier(n_estimators=100, random_state=42))\n",
    "]\n",
    "\n",
    "logistic_regression = LogisticRegression()\n",
    "\n",
    "stack = StackingClassifier(\n",
    "    estimators=base_models,\n",
    "    final_estimator=logistic_regression,\n",
    "    stack_method='auto'\n",
    ")"
   ]
  },
  {
   "cell_type": "code",
   "execution_count": 21,
   "id": "febbfd9f-eda2-4e4f-be59-4719890a34c5",
   "metadata": {},
   "outputs": [],
   "source": [
    "stack.fit(xv_train, y_train)\n",
    "y_pred = stack.predict(xv_test)"
   ]
  },
  {
   "cell_type": "code",
   "execution_count": 23,
   "id": "dd84624f-95cd-4248-8586-e0e2b480f243",
   "metadata": {},
   "outputs": [
    {
     "data": {
      "text/plain": [
       "['model.pkl']"
      ]
     },
     "execution_count": 23,
     "metadata": {},
     "output_type": "execute_result"
    }
   ],
   "source": [
    "import joblib\n",
    "\n",
    "joblib.dump(vectorization, 'vectorizer.pkl')\n",
    "joblib.dump(stack, 'model.pkl')"
   ]
  },
  {
   "cell_type": "code",
   "execution_count": 24,
   "id": "5f90efbd-5ff2-4317-b9d2-91a9bc04ecbc",
   "metadata": {},
   "outputs": [
    {
     "name": "stdout",
     "output_type": "stream",
     "text": [
      "Accuracy: 0.9973273942093541\n",
      "              precision    recall  f1-score   support\n",
      "\n",
      "           0       1.00      1.00      1.00      4794\n",
      "           1       1.00      1.00      1.00      4186\n",
      "\n",
      "    accuracy                           1.00      8980\n",
      "   macro avg       1.00      1.00      1.00      8980\n",
      "weighted avg       1.00      1.00      1.00      8980\n",
      "\n",
      "pa Accuracy: 99.28%\n",
      "rf Accuracy: 99.71%\n"
     ]
    }
   ],
   "source": [
    "print(\"Accuracy:\", accuracy_score(y_test, y_pred))\n",
    "print(classification_report(y_test, y_pred))\n",
    "\n",
    "for name, model in base_models:\n",
    "    model.fit(xv_train, y_train)\n",
    "    print(f\"{name} Accuracy: {accuracy_score(y_test, model.predict(xv_test)):.2%}\")"
   ]
  },
  {
   "cell_type": "code",
   "execution_count": 25,
   "id": "ac0fe583-b1af-48b1-84f3-c4a28139c37c",
   "metadata": {},
   "outputs": [
    {
     "name": "stdout",
     "output_type": "stream",
     "text": [
      "Prediction: 0\n"
     ]
    }
   ],
   "source": [
    "vec = joblib.load('vectorizer.pkl')\n",
    "model = joblib.load('model.pkl')\n",
    "\n",
    "text = [\"Breaking news: a man dies in a train crash\"]\n",
    "text = vec.transform(text)\n",
    "print(\"Prediction:\", model.predict(text)[0])"
   ]
  },
  {
   "cell_type": "code",
   "execution_count": null,
   "id": "f8ee4ca2-d4d6-4081-9491-df8a601b9f97",
   "metadata": {},
   "outputs": [],
   "source": []
  }
 ],
 "metadata": {
  "kernelspec": {
   "display_name": "Python 3 (ipykernel)",
   "language": "python",
   "name": "python3"
  },
  "language_info": {
   "codemirror_mode": {
    "name": "ipython",
    "version": 3
   },
   "file_extension": ".py",
   "mimetype": "text/x-python",
   "name": "python",
   "nbconvert_exporter": "python",
   "pygments_lexer": "ipython3",
   "version": "3.12.8"
  }
 },
 "nbformat": 4,
 "nbformat_minor": 5
}
